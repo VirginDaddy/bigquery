{
 "cells": [
  {
   "cell_type": "code",
   "execution_count": 3,
   "metadata": {
    "collapsed": true
   },
   "outputs": [],
   "source": [
    "library(httr)\n",
    "library(assertthat)"
   ]
  },
  {
   "cell_type": "code",
   "execution_count": 86,
   "metadata": {
    "collapsed": true
   },
   "outputs": [],
   "source": [
    "res <- POST(\"https://shortesttrack.com/api/data/datasets/c8ae82dc-4b93-4903-a0a1-4a053bc4c517/matrices/fghgf/upload\",\n",
    "           body = list(\n",
    "    metadata = upload_file(\"metadata.json\"),\n",
    "    media = upload_file(\"/home/akhil/1.csv\")\n",
    "  ),\n",
    "    \n",
    "add_headers(\"Authorization\" = \"Bearer eyJhbGciOiJSUzI1NiIsInR5cCI6IkpXVCJ9.eyJzdWIiOiI4MTIyYTNkMy1lZmQ2LTQwMjYtOGVlZi04MzMzNmJlNmFkNzciLCJpc3MiOiJzaG9ydGVzdHRyYWNrLXVhYSIsImF1dGhvcml0aWVzIjpbIlJPTEVfQ09NUEFOWV9BRE1JTiJdLCJkamFuZ29Vc2VySWQiOiI5OTkiLCJjbGllbnRfaWQiOiJ3ZWJfYXBwIiwiYXVkIjoid2ViX2FwcCIsImNvbXBhbnlJZCI6InRlc3Rfc2hvcnRlc3R0cmFja19mdW5jdGlvbmFsaXR5IiwiZGphbmdvVG9rZW4iOiI5NjUxYmQzZGJiZWExZDQ5YjM1MzhjZjRjMDU1MWMzODhiOGVlNzZlIiwic2NvcGUiOlsib3BlbmlkIl0sImV4cCI6MTUxNTg3MjkxNSwiaWF0IjoxNTE1NTcyOTE1LCJqdGkiOiIyOGZiNDg0NS03YTJkLTQxZWQtYjJmMS0wODc2MzNmODEwMmUiLCJlbWFpbCI6InB1YmxpYy1hZG1pbkBsb2NhbGhvc3QifQ.SWKcEhyck4OrBzIDUG6AW1LRBiYbuw7t9XSIhTg4Q7lyELpvu2RI7n-LvpBqYgNPiCmX8HDhr9BM9VaIkqx1p4v2Bxc_3X3wRFnEyt9ECVKodXLN0nWIEbddPZVJRoQx4PqM7vlOSomm3QEqEmlx91qoVGGFwDtwWq_mBUAspI-dtezT80Izh36ZcrEk63IIOV0ar6plsmETTmYzQ8558JkuXrc3chmMS7mcC-ROH4bNEmAQGtsSSblRIgawmdMQv82rI4iAK_YhX40o7m9CEJHZi3ddL2ijy9P0ZXoXrmE7zwokETjZWikmOAnfRhvITi1rVDoV0HcWU-IuDUWL6Q\"))"
   ]
  },
  {
   "cell_type": "code",
   "execution_count": 70,
   "metadata": {
    "scrolled": false
   },
   "outputs": [
    {
     "data": {
      "text/html": [
       "400"
      ],
      "text/latex": [
       "400"
      ],
      "text/markdown": [
       "400"
      ],
      "text/plain": [
       "[1] 400"
      ]
     },
     "metadata": {},
     "output_type": "display_data"
    }
   ],
   "source": [
    "status_code(res)"
   ]
  },
  {
   "cell_type": "code",
   "execution_count": 9,
   "metadata": {},
   "outputs": [],
   "source": [
    "res1 <- httr::GET(\"https://shortesttrack.com/api/data/datasets/c8ae82dc-4b93-4903-a0a1-4a053bc4c517/matrices/hmmtrain/data\",\n",
    "           add_headers(\"Authorization\" = \"Bearer eyJhbGciOiJSUzI1NiIsInR5cCI6IkpXVCJ9.eyJzdWIiOiI4MTIyYTNkMy1lZmQ2LTQwMjYtOGVlZi04MzMzNmJlNmFkNzciLCJpc3MiOiJzaG9ydGVzdHRyYWNrLXVhYSIsImF1dGhvcml0aWVzIjpbIlJPTEVfQ09NUEFOWV9BRE1JTiJdLCJkamFuZ29Vc2VySWQiOiI5OTkiLCJjbGllbnRfaWQiOiJ3ZWJfYXBwIiwiYXVkIjoid2ViX2FwcCIsImNvbXBhbnlJZCI6InRlc3Rfc2hvcnRlc3R0cmFja19mdW5jdGlvbmFsaXR5IiwiZGphbmdvVG9rZW4iOiI5NjUxYmQzZGJiZWExZDQ5YjM1MzhjZjRjMDU1MWMzODhiOGVlNzZlIiwic2NvcGUiOlsib3BlbmlkIl0sImV4cCI6MTUxNzY5Nzk1OCwiaWF0IjoxNTE3Mzk3OTU4LCJqdGkiOiI2ODdmNjQ3ZS03YTIyLTQ5NjgtYTA0Yi1hYzQ2OWY2Y2ZiNWEiLCJlbWFpbCI6InB1YmxpYy1hZG1pbkBsb2NhbGhvc3QifQ.ImCaQwpw94BU6qc7Zh7Lby9EsCxnwZ0REDdg1aLbwYpTbRgbNB7Ng6nEVzH6f4zsDUZ-rpaAPtMM1Yna09tb3Wie-JS6H1v9qs4Fk7vHoKfhQTepkFu8RJu9Lj3a8nUZVkh1TTIYLEzgjpZUBLWQyRb0wl3-XsC18Q3I5K1d6Z41p8RvhpVpUAAMsKyWh-pEF4Pgj7u4MOilP22VZr_QKbq9oI3xcLG5YXeTrSTO6qbWc-MdidvRnA0KzuLEY1p44nr4fHl0-Fm0OqHOk3AXL0VtWXSIaOZyQzNCKVtiFiali0OkALHY8BuCod0PptBfXZjQ_DK7UqnIspqXP3rNHg\"))"
   ]
  },
  {
   "cell_type": "code",
   "execution_count": 10,
   "metadata": {},
   "outputs": [
    {
     "data": {
      "text/plain": [
       "Response [https://shortesttrack.com/api/data/datasets/c8ae82dc-4b93-4903-a0a1-4a053bc4c517/matrices/hmmtrain/data]\n",
       "  Date: 2018-01-31 11:26\n",
       "  Status: 401\n",
       "  Content-Type: application/json;charset=UTF-8\n",
       "  Size: 66 B\n"
      ]
     },
     "metadata": {},
     "output_type": "display_data"
    }
   ],
   "source": [
    "res1"
   ]
  },
  {
   "cell_type": "code",
   "execution_count": 6,
   "metadata": {},
   "outputs": [
    {
     "data": {
      "text/plain": [
       "NULL"
      ]
     },
     "metadata": {},
     "output_type": "display_data"
    }
   ],
   "source": [
    "a <- content(res1)$rows\n",
    "a"
   ]
  },
  {
   "cell_type": "code",
   "execution_count": 74,
   "metadata": {
    "collapsed": true
   },
   "outputs": [],
   "source": [
    "bq_post <- function(dataset,table,token,maxResults=NULL,pageToken=NULL,selectedFields=NULL,startIndex=NULL,...){\n",
    "    assert_that(\n",
    "        is.string(dataset),\n",
    "        is.string(table),\n",
    "        is.string(token)\n",
    "    )\n",
    "    \n",
    "    res <- POST(\"https://shortesttrack.com/api/data/datasets/c8ae82dc-4b93-4903-a0a1-4a053bc4c517/matrices/fghgf/upload\",\n",
    "           body = list(\n",
    "    metadata = upload_file(\"/home/akhil/metadata.json\"),\n",
    "    media = upload_file(\"/home/akhil/1.csv\")\n",
    "  ),\n",
    "    \n",
    "add_headers(\"Authorization\" = \"Bearer eyJhbGciOiJSUzI1NiIsInR5cCI6IkpXVCJ9.eyJzdWIiOiI4MTIyYTNkMy1lZmQ2LTQwMjYtOGVlZi04MzMzNmJlNmFkNzciLCJpc3MiOiJzaG9ydGVzdHRyYWNrLXVhYSIsImF1dGhvcml0aWVzIjpbIlJPTEVfQ09NUEFOWV9BRE1JTiJdLCJkamFuZ29Vc2VySWQiOiI5OTkiLCJjbGllbnRfaWQiOiJ3ZWJfYXBwIiwiYXVkIjoid2ViX2FwcCIsImNvbXBhbnlJZCI6InRlc3Rfc2hvcnRlc3R0cmFja19mdW5jdGlvbmFsaXR5IiwiZGphbmdvVG9rZW4iOiI5NjUxYmQzZGJiZWExZDQ5YjM1MzhjZjRjMDU1MWMzODhiOGVlNzZlIiwic2NvcGUiOlsib3BlbmlkIl0sImV4cCI6MTUxNTg3MjkxNSwiaWF0IjoxNTE1NTcyOTE1LCJqdGkiOiIyOGZiNDg0NS03YTJkLTQxZWQtYjJmMS0wODc2MzNmODEwMmUiLCJlbWFpbCI6InB1YmxpYy1hZG1pbkBsb2NhbGhvc3QifQ.SWKcEhyck4OrBzIDUG6AW1LRBiYbuw7t9XSIhTg4Q7lyELpvu2RI7n-LvpBqYgNPiCmX8HDhr9BM9VaIkqx1p4v2Bxc_3X3wRFnEyt9ECVKodXLN0nWIEbddPZVJRoQx4PqM7vlOSomm3QEqEmlx91qoVGGFwDtwWq_mBUAspI-dtezT80Izh36ZcrEk63IIOV0ar6plsmETTmYzQ8558JkuXrc3chmMS7mcC-ROH4bNEmAQGtsSSblRIgawmdMQv82rI4iAK_YhX40o7m9CEJHZi3ddL2ijy9P0ZXoXrmE7zwokETjZWikmOAnfRhvITi1rVDoV0HcWU-IuDUWL6Q\"))\n",
    "}"
   ]
  },
  {
   "cell_type": "code",
   "execution_count": null,
   "metadata": {
    "collapsed": true
   },
   "outputs": [],
   "source": []
  }
 ],
 "metadata": {
  "kernelspec": {
   "display_name": "R 3.3",
   "language": "R",
   "name": "ir33"
  },
  "language_info": {
   "codemirror_mode": "r",
   "file_extension": ".r",
   "mimetype": "text/x-r-source",
   "name": "R",
   "pygments_lexer": "r",
   "version": "3.4.2"
  }
 },
 "nbformat": 4,
 "nbformat_minor": 2
}
